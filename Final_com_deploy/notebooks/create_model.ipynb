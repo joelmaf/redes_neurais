{
 "cells": [
  {
   "cell_type": "markdown",
   "metadata": {
    "id": "k8K70Mebuy5W"
   },
   "source": [
    "# Problema:  Prever se um cliente vai cancelar sua assinatura"
   ]
  },
  {
   "cell_type": "code",
   "execution_count": 2,
   "metadata": {
    "colab": {
     "base_uri": "https://localhost:8080/"
    },
    "id": "ms46HPyxlXSp",
    "outputId": "d0d42076-b5d4-479c-ffe1-d4e55063397d"
   },
   "outputs": [],
   "source": [
    "#!pip install pandas\n",
    "#!pip install numpy\n",
    "#!pip install matplotlib\n",
    "#!pip install seaborn\n",
    "#!pip install scikit-learn\n",
    "#!pip install jupyter\n",
    "#!pip install shap\n",
    "#!pip install torchmetrics"
   ]
  },
  {
   "cell_type": "code",
   "execution_count": 3,
   "metadata": {
    "id": "gUmWnZ_FYdL8"
   },
   "outputs": [],
   "source": [
    "import numpy as np\n",
    "import pandas as pd\n",
    "\n",
    "import torch\n",
    "import torch.nn as nn\n",
    "import torch.nn.functional as F\n",
    "import torchmetrics\n",
    "from torch.utils.data import TensorDataset, DataLoader\n",
    "\n",
    "from sklearn.model_selection import train_test_split\n",
    "from sklearn.metrics import accuracy_score\n",
    "from sklearn.metrics import precision_score\n",
    "from sklearn.metrics import recall_score\n",
    "from sklearn.metrics import f1_score\n",
    "from sklearn.linear_model import LogisticRegression\n",
    "\n",
    "import warnings\n",
    "warnings.filterwarnings('ignore')"
   ]
  },
  {
   "cell_type": "code",
   "execution_count": 4,
   "metadata": {
    "id": "DE4dlmH3lzBf"
   },
   "outputs": [],
   "source": [
    "X_train = pd.read_csv(\"../data/train/X_train.csv\")\n",
    "X_test = pd.read_csv(\"../data/train/X_test.csv\")\n",
    "\n",
    "y_train = pd.read_csv(\"../data/train/y_train.csv\")\n",
    "y_test = pd.read_csv(\"../data/train/y_test.csv\")"
   ]
  },
  {
   "cell_type": "code",
   "execution_count": 5,
   "metadata": {
    "colab": {
     "base_uri": "https://localhost:8080/"
    },
    "id": "zobxq8OiteUU",
    "outputId": "ffb8cd4f-877f-44f1-c724-f7afe908acb2"
   },
   "outputs": [
    {
     "data": {
      "text/plain": [
       "(2666, 15)"
      ]
     },
     "execution_count": 5,
     "metadata": {},
     "output_type": "execute_result"
    }
   ],
   "source": [
    "X_train.shape"
   ]
  },
  {
   "cell_type": "code",
   "execution_count": 6,
   "metadata": {},
   "outputs": [
    {
     "data": {
      "text/plain": [
       "Index(['Tempo_conta', 'Plano_internacional', 'Plano_correio',\n",
       "       'Total_minutos_diurnos', 'Total_chamadas_diurnas',\n",
       "       'Total_minutos_vespertinos', 'Total_chamadas_vespertinas',\n",
       "       'Total_minutos_noturnos', 'Total_chamadas_noturnas',\n",
       "       'Total_minutos_internacionais', 'Total_chamadas_internacionais',\n",
       "       'Chamadas_atendimento', 'Media_cancelamento_por_estado',\n",
       "       'Media_cancelamento_por_codigo_area',\n",
       "       'Total_chamadas_noturnas_por_minuto'],\n",
       "      dtype='object')"
      ]
     },
     "execution_count": 6,
     "metadata": {},
     "output_type": "execute_result"
    }
   ],
   "source": [
    "X_train.columns"
   ]
  },
  {
   "cell_type": "code",
   "execution_count": 7,
   "metadata": {
    "id": "EsggzXpO0JL3"
   },
   "outputs": [],
   "source": [
    "# Converter X e y para torch.Tensor\n",
    "X_train_tensor = torch.tensor(X_train.values, dtype=torch.float32)\n",
    "y_train_tensor = torch.tensor(y_train.values, dtype=torch.float32).reshape(-1, 1)\n",
    "\n",
    "X_test_tensor = torch.tensor(X_test.values, dtype=torch.float32)\n",
    "y_test_tensor = torch.tensor(y_test.values, dtype=torch.float32).reshape(-1, 1)"
   ]
  },
  {
   "cell_type": "code",
   "execution_count": 8,
   "metadata": {
    "id": "0LPyG1lTzVwr"
   },
   "outputs": [],
   "source": [
    "class NeuralNetwork(nn.Module):\n",
    "    def __init__(self, input_dim, num_labels):\n",
    "        super(NeuralNetwork, self).__init__()\n",
    "        self.linear1 = nn.Linear(input_dim, 100)\n",
    "        self.relu = nn.ReLU()\n",
    "        self.dropout = nn.Dropout(0.1)\n",
    "        self.linear2 = nn.Linear(100, num_labels)\n",
    "        self.sigmoid = nn.Sigmoid()\n",
    "\n",
    "    def forward(self, x):\n",
    "        x = self.linear1(x)\n",
    "        x = self.relu(x)\n",
    "        x = self.dropout(x)\n",
    "        x = self.linear2(x)\n",
    "        x = self.sigmoid(x)\n",
    "        return x"
   ]
  },
  {
   "cell_type": "code",
   "execution_count": 9,
   "metadata": {
    "id": "kiP3Nbmt3L_G"
   },
   "outputs": [],
   "source": [
    "model = NeuralNetwork(15,1)"
   ]
  },
  {
   "cell_type": "code",
   "execution_count": 10,
   "metadata": {
    "id": "fr11wyA4N5Wp"
   },
   "outputs": [],
   "source": [
    "n_epochs = 5000\n",
    "learning_rate = 0.0001"
   ]
  },
  {
   "cell_type": "code",
   "execution_count": 11,
   "metadata": {
    "id": "qMdChbAg243_"
   },
   "outputs": [],
   "source": [
    "#Para saídas binárias com sigmoide\n",
    "criterion = nn.BCELoss()\n"
   ]
  },
  {
   "cell_type": "code",
   "execution_count": 12,
   "metadata": {
    "id": "5zbX71jtrgnu"
   },
   "outputs": [],
   "source": [
    "optimizer = torch.optim.Adam(model.parameters(), lr=learning_rate)"
   ]
  },
  {
   "cell_type": "code",
   "execution_count": 13,
   "metadata": {
    "colab": {
     "base_uri": "https://localhost:8080/"
    },
    "id": "fZlnHM_6J7D4",
    "outputId": "c0b3daad-cc8b-45a2-df54-2a587ac8de88"
   },
   "outputs": [
    {
     "name": "stdout",
     "output_type": "stream",
     "text": [
      "Época [100/100], Loss: 0.5959\n",
      "Época [200/100], Loss: 0.5223\n",
      "Época [300/100], Loss: 0.4682\n",
      "Época [400/100], Loss: 0.4296\n",
      "Época [500/100], Loss: 0.4060\n",
      "Época [600/100], Loss: 0.3912\n",
      "Época [700/100], Loss: 0.3826\n",
      "Época [800/100], Loss: 0.3743\n",
      "Época [900/100], Loss: 0.3708\n",
      "Época [1000/100], Loss: 0.3643\n",
      "Época [1100/100], Loss: 0.3589\n",
      "Época [1200/100], Loss: 0.3528\n",
      "Época [1300/100], Loss: 0.3477\n",
      "Época [1400/100], Loss: 0.3414\n",
      "Época [1500/100], Loss: 0.3378\n",
      "Época [1600/100], Loss: 0.3322\n",
      "Época [1700/100], Loss: 0.3283\n",
      "Época [1800/100], Loss: 0.3225\n",
      "Época [1900/100], Loss: 0.3176\n",
      "Época [2000/100], Loss: 0.3135\n",
      "Época [2100/100], Loss: 0.3102\n",
      "Época [2200/100], Loss: 0.3056\n",
      "Época [2300/100], Loss: 0.3035\n",
      "Época [2400/100], Loss: 0.2996\n",
      "Época [2500/100], Loss: 0.2966\n",
      "Época [2600/100], Loss: 0.2927\n",
      "Época [2700/100], Loss: 0.2898\n",
      "Época [2800/100], Loss: 0.2877\n",
      "Época [2900/100], Loss: 0.2826\n",
      "Época [3000/100], Loss: 0.2810\n",
      "Época [3100/100], Loss: 0.2771\n",
      "Época [3200/100], Loss: 0.2753\n",
      "Época [3300/100], Loss: 0.2732\n",
      "Época [3400/100], Loss: 0.2709\n",
      "Época [3500/100], Loss: 0.2701\n",
      "Época [3600/100], Loss: 0.2659\n",
      "Época [3700/100], Loss: 0.2651\n",
      "Época [3800/100], Loss: 0.2568\n",
      "Época [3900/100], Loss: 0.2602\n",
      "Época [4000/100], Loss: 0.2526\n",
      "Época [4100/100], Loss: 0.2519\n",
      "Época [4200/100], Loss: 0.2508\n",
      "Época [4300/100], Loss: 0.2494\n",
      "Época [4400/100], Loss: 0.2477\n",
      "Época [4500/100], Loss: 0.2454\n",
      "Época [4600/100], Loss: 0.2404\n",
      "Época [4700/100], Loss: 0.2356\n",
      "Época [4800/100], Loss: 0.2382\n",
      "Época [4900/100], Loss: 0.2372\n",
      "Época [5000/100], Loss: 0.2309\n"
     ]
    }
   ],
   "source": [
    "for epoch in range(n_epochs):\n",
    "    model.train()\n",
    "\n",
    "    outputs = model(X_train_tensor)\n",
    "    loss = criterion(outputs, y_train_tensor)\n",
    "\n",
    "    optimizer.zero_grad()\n",
    "    loss.backward()\n",
    "    optimizer.step()\n",
    "\n",
    "    if (epoch+1) % 100 == 0:\n",
    "        print(f'Época [{epoch+1}/100], Loss: {loss.item():.4f}')"
   ]
  },
  {
   "cell_type": "code",
   "execution_count": 14,
   "metadata": {
    "colab": {
     "base_uri": "https://localhost:8080/"
    },
    "id": "_ScDGprWR_mj",
    "outputId": "dfbaa36b-5486-40f1-abed-b96ec92308e3"
   },
   "outputs": [
    {
     "data": {
      "text/plain": [
       "NeuralNetwork(\n",
       "  (linear1): Linear(in_features=15, out_features=100, bias=True)\n",
       "  (relu): ReLU()\n",
       "  (dropout): Dropout(p=0.1, inplace=False)\n",
       "  (linear2): Linear(in_features=100, out_features=1, bias=True)\n",
       "  (sigmoid): Sigmoid()\n",
       ")"
      ]
     },
     "execution_count": 14,
     "metadata": {},
     "output_type": "execute_result"
    }
   ],
   "source": [
    "model.eval()"
   ]
  },
  {
   "cell_type": "code",
   "execution_count": 15,
   "metadata": {
    "id": "6tXhgDlNtvpM"
   },
   "outputs": [],
   "source": [
    "# Definindo o objeto para calcular a acurácia para uma tarefa binária\n",
    "accuracy = torchmetrics.Accuracy(task=\"binary\")\n",
    "precision = torchmetrics.Precision(task=\"binary\")\n",
    "recall = torchmetrics.Recall(task=\"binary\")\n",
    "f1 = torchmetrics.F1Score(task=\"binary\")"
   ]
  },
  {
   "cell_type": "code",
   "execution_count": 16,
   "metadata": {
    "id": "LslztU1ktzmC"
   },
   "outputs": [],
   "source": [
    "# Predições no conjunto de treino\n",
    "train_pred = model(X_train_tensor)\n",
    "train_pred = (train_pred >= 0.5).int() # Converte probabilidades para 0 ou 1 tem uma sigmoid na última camada\n",
    "\n",
    "# Calcular a acurácia no conjunto de treino\n",
    "train_accuracy = accuracy(train_pred, y_train_tensor.int())\n",
    "train_precision = precision(train_pred, y_train_tensor.int())\n",
    "train_recall = recall(train_pred, y_train_tensor.int())\n",
    "train_f1 = f1(train_pred, y_train_tensor.int())"
   ]
  },
  {
   "cell_type": "code",
   "execution_count": 17,
   "metadata": {
    "id": "gVNgDr2Gt2gT"
   },
   "outputs": [],
   "source": [
    "# Predições no conjunto de teste\n",
    "test_pred = model(X_test_tensor)\n",
    "test_pred = (test_pred >= 0.5).int() # Converte probabilidades para 0 ou 1 tem uma sigmoid na última camada\n",
    "\n",
    "# Calcular a acurácia no conjunto de teste\n",
    "test_accuracy = accuracy(test_pred, y_test_tensor.int())\n",
    "test_precision = precision(test_pred, y_test_tensor.int())\n",
    "test_recall = recall(test_pred, y_test_tensor.int())\n",
    "test_f1 = f1(test_pred, y_test_tensor.int())"
   ]
  },
  {
   "cell_type": "code",
   "execution_count": 18,
   "metadata": {
    "colab": {
     "base_uri": "https://localhost:8080/"
    },
    "id": "hGz26-p0T1wN",
    "outputId": "d4a1d482-8453-4ebe-ef7e-35eb42260aa9"
   },
   "outputs": [
    {
     "name": "stdout",
     "output_type": "stream",
     "text": [
      "Acurácia no conjunto de treino: 0.9227306842803955\n",
      "Precisão no conjunto de treino: 0.8947368264198303\n",
      "Recall no conjunto de treino: 0.5284973978996277\n",
      "F1-score no conjunto de treino: 0.6644951105117798\n",
      "\n",
      "Acurácia no conjunto de teste: 0.9115442037582397\n",
      "Precisão no conjunto de teste: 0.8799999952316284\n",
      "Recall no conjunto de teste: 0.4536082446575165\n",
      "F1-score no conjunto de teste: 0.5986394286155701\n"
     ]
    }
   ],
   "source": [
    "print(\"Acurácia no conjunto de treino:\", train_accuracy.item())\n",
    "print(\"Precisão no conjunto de treino:\", train_precision.item())\n",
    "print(\"Recall no conjunto de treino:\", train_recall.item())\n",
    "print(\"F1-score no conjunto de treino:\", train_f1.item())\n",
    "\n",
    "print(\"\\nAcurácia no conjunto de teste:\", test_accuracy.item())\n",
    "print(\"Precisão no conjunto de teste:\", test_precision.item())\n",
    "print(\"Recall no conjunto de teste:\", test_recall.item())\n",
    "print(\"F1-score no conjunto de teste:\", test_f1.item())"
   ]
  },
  {
   "cell_type": "code",
   "execution_count": 19,
   "metadata": {
    "colab": {
     "base_uri": "https://localhost:8080/",
     "height": 472
    },
    "id": "-HDA1HRMgDzU",
    "outputId": "bed40269-8db0-4cf0-93a4-c2cff0060c6f"
   },
   "outputs": [
    {
     "data": {
      "image/png": "[encoded data removed]",
      "text/plain": [
       "<Figure size 640x480 with 2 Axes>"
      ]
     },
     "metadata": {},
     "output_type": "display_data"
    }
   ],
   "source": [
    "from sklearn.metrics import confusion_matrix, ConfusionMatrixDisplay\n",
    "import matplotlib.pyplot as plt\n",
    "\n",
    "cm = confusion_matrix(y_test_tensor.int().numpy(), test_pred.numpy())\n",
    "\n",
    "disp = ConfusionMatrixDisplay(confusion_matrix=cm, display_labels=[0, 1])\n",
    "disp.plot(cmap=plt.cm.Blues)\n",
    "plt.title(\"Matriz de Confusão\")\n",
    "plt.show()"
   ]
  },
  {
   "cell_type": "code",
   "execution_count": 20,
   "metadata": {},
   "outputs": [
    {
     "data": {
      "text/plain": [
       "tensor([[ 0.0943,  0.0000,  1.0000,  ...,  0.1525,  0.1482,  0.0450],\n",
       "        [-0.1321,  0.0000,  0.0000,  ...,  0.1607,  0.1361,  0.0450],\n",
       "        [-0.5660,  0.0000,  1.0000,  ...,  0.1224,  0.1468,  0.0450],\n",
       "        ...,\n",
       "        [ 0.0755,  0.0000,  0.0000,  ...,  0.0690,  0.1482,  0.0450],\n",
       "        [-0.5849,  0.0000,  0.0000,  ...,  0.1852,  0.1361,  0.0450],\n",
       "        [-0.3962,  0.0000,  0.0000,  ...,  0.0667,  0.1361,  0.0450]])"
      ]
     },
     "execution_count": 20,
     "metadata": {},
     "output_type": "execute_result"
    }
   ],
   "source": [
    "X_train_tensor"
   ]
  },
  {
   "cell_type": "code",
   "execution_count": 21,
   "metadata": {},
   "outputs": [],
   "source": [
    "# Salvar os pesos\n",
    "torch.save(model.state_dict(), \"../models/modelo_redes_neurais.pt\")\n"
   ]
  }
 ],
 "metadata": {
  "colab": {
   "provenance": []
  },
  "kernelspec": {
   "display_name": "Python 3 (ipykernel)",
   "language": "python",
   "name": "python3"
  },
  "language_info": {
   "codemirror_mode": {
    "name": "ipython",
    "version": 3
   },
   "file_extension": ".py",
   "mimetype": "text/x-python",
   "name": "python",
   "nbconvert_exporter": "python",
   "pygments_lexer": "ipython3",
   "version": "3.12.7"
  }
 },
 "nbformat": 4,
 "nbformat_minor": 4
}
