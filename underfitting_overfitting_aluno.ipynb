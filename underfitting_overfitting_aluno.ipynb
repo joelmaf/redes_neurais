{
  "nbformat": 4,
  "nbformat_minor": 0,
  "metadata": {
    "colab": {
      "provenance": []
    },
    "kernelspec": {
      "name": "python3",
      "display_name": "Python 3"
    },
    "language_info": {
      "name": "python"
    }
  },
  "cells": [
    {
      "cell_type": "markdown",
      "source": [
        "* Underfitting (Subajuste):\n",
        "  * O modelo é muito simples e não captura a complexidade dos dados.\n",
        "  * Resulta em altos erros de treino e teste.\n",
        "  * A curva ajustada não reflete a verdadeira tendência dos dados.\n",
        "\n",
        "* Bom Ajuste:\n",
        "  * O modelo captura a estrutura subjacente dos dados sem ajustar o ruído.\n",
        "  * Apresenta erros de treino e teste baixos e semelhantes.\n",
        "  * Generaliza bem para novos dados.\n",
        "\n",
        "* Overfitting (Sobreajuste):\n",
        "  * O modelo é muito complexo e captura o ruído presente nos dados de treino.\n",
        "  * Resulta em erro de treino muito baixo, mas erro de teste alto.\n",
        "  * A curva ajustada apresenta muitas oscilações não representativas da tendência real."
      ],
      "metadata": {
        "id": "bTS97O7Bg4zk"
      }
    },
    {
      "cell_type": "code",
      "source": [
        "import numpy as np\n",
        "import matplotlib.pyplot as plt\n",
        "from sklearn.preprocessing import PolynomialFeatures\n",
        "from sklearn.linear_model import LinearRegression\n",
        "from sklearn.metrics import mean_squared_error\n",
        "from sklearn.model_selection import train_test_split"
      ],
      "metadata": {
        "id": "zaEfG65kZOTu"
      },
      "execution_count": null,
      "outputs": []
    },
    {
      "cell_type": "markdown",
      "source": [
        "# Problema: Grau ideal do polinômio"
      ],
      "metadata": {
        "id": "2ZXCdiORhm1j"
      }
    },
    {
      "cell_type": "code",
      "source": [
        "# Gerar dados simulados\n",
        "np.random.seed(0)\n",
        "X = np.sort(np.random.rand(30, 1) * 10, axis=0)\n",
        "y = np.sin(X).ravel()\n",
        "\n",
        "# Adicionando ruído\n",
        "y += 0.5 * np.random.randn(y.shape[0])"
      ],
      "metadata": {
        "id": "GkKHMaMVfNXo"
      },
      "execution_count": null,
      "outputs": []
    },
    {
      "cell_type": "code",
      "source": [
        "# Dividir os dados em treino e teste\n",
        "X_train, X_test, y_train, y_test = train_test_split(X, y, test_size=0.2)"
      ],
      "metadata": {
        "id": "d-y0v24HfPQ-"
      },
      "execution_count": null,
      "outputs": []
    },
    {
      "cell_type": "code",
      "execution_count": null,
      "metadata": {
        "id": "iEThvfr1Yz4l"
      },
      "outputs": [],
      "source": [
        "# Função para plotar o modelo\n",
        "def plot_model(degree):\n",
        "    # Transformação polinomial\n",
        "    # Usamos PolynomialFeatures para criar características polinomiais com o grau especificado\n",
        "    polynomial_features = PolynomialFeatures(degree=degree)\n",
        "    X_train_poly = polynomial_features.fit_transform(X_train)\n",
        "    X_test_poly = polynomial_features.transform(X_test)\n",
        "\n",
        "    # Treinar o modelo\n",
        "    #Ajustamos um modelo de regressão linear aos dados polinomiais transformados.\n",
        "    model = LinearRegression()\n",
        "    model.fit(X_train_poly, y_train)\n",
        "\n",
        "    # Previsões\n",
        "    X_plot = np.linspace(0, 10, 100).reshape(-1, 1)\n",
        "    X_plot_poly = polynomial_features.transform(X_plot)\n",
        "    y_plot = model.predict(X_plot_poly)\n",
        "\n",
        "    # Calcular o erro\n",
        "    y_train_pred = model.predict(X_train_poly)\n",
        "    y_test_pred = model.predict(X_test_poly)\n",
        "    train_error = mean_squared_error(y_train, y_train_pred)\n",
        "    test_error = mean_squared_error(y_test, y_test_pred)\n",
        "\n",
        "    # Plot\n",
        "    plt.figure(figsize=(10,6))\n",
        "    plt.scatter(X_train, y_train, color='blue', label='Dados de Treino')\n",
        "    plt.scatter(X_test, y_test, color='red', label='Dados de Teste')\n",
        "    plt.plot(X_plot, y_plot, color='green', label='Modelo (Grau {})'.format(degree))\n",
        "    plt.title('Grau do Polinômio: {}\\nErro de Treino: {:.2f} | Erro de Teste: {:.2f}'.format(degree, train_error, test_error))\n",
        "    plt.xlabel('X')\n",
        "    plt.ylabel('y')\n",
        "    plt.legend()\n",
        "    plt.show()"
      ]
    },
    {
      "cell_type": "code",
      "source": [
        "# Exemplo de uso com diferentes graus\n",
        "# Graus 1 (underfitting), 4 (bom ajuste) e 15 (overfitting)\n",
        "\n",
        "\n",
        "\n"
      ],
      "metadata": {
        "id": "N8_tDXndfesL"
      },
      "execution_count": null,
      "outputs": []
    },
    {
      "cell_type": "code",
      "source": [
        "#!pip install ipywidgets"
      ],
      "metadata": {
        "id": "xmKoTMWygP-y"
      },
      "execution_count": null,
      "outputs": []
    },
    {
      "cell_type": "code",
      "source": [
        "from google.colab import output\n",
        "from ipywidgets import interact\n",
        "output.enable_custom_widget_manager()\n",
        "\n",
        "@interact(degree=(1, 20))\n",
        "def interactive_plot(degree=3):\n",
        "    plot_model(degree)"
      ],
      "metadata": {
        "id": "cLD-_GhZgLtL"
      },
      "execution_count": null,
      "outputs": []
    },
    {
      "cell_type": "markdown",
      "source": [
        "Perguntas para Reflexão:\n",
        "\n",
        "* O que acontece com o erro de teste quando aumentamos o grau do polinômio além de um certo ponto?\n",
        "* Por que um modelo com erro de treino muito baixo pode não ser o melhor em dados novos?\n",
        "* Como podemos escolher o grau ideal do polinômio?\n",
        "* Qual é o impacto do overfitting em modelos preditivos?\n",
        "* Como a qualidade dos dados afeta os resultados em Machine Learning?\n",
        "\n"
      ],
      "metadata": {
        "id": "VyLehTwaht4A"
      }
    }
  ]
}