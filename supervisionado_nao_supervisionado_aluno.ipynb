{
  "nbformat": 4,
  "nbformat_minor": 0,
  "metadata": {
    "colab": {
      "provenance": []
    },
    "kernelspec": {
      "name": "python3",
      "display_name": "Python 3"
    },
    "language_info": {
      "name": "python"
    }
  },
  "cells": [
    {
      "cell_type": "markdown",
      "source": [
        "# Problema: Regressão Linear\n",
        "\n",
        "* **Regressão**: predição de saídas contínuas"
      ],
      "metadata": {
        "id": "a61pOq7olbKX"
      }
    },
    {
      "cell_type": "markdown",
      "source": [
        "### Carga de pacotes e dados"
      ],
      "metadata": {
        "id": "iZvYCu5mvWa2"
      }
    },
    {
      "cell_type": "code",
      "source": [
        "import numpy as np\n",
        "import pandas as pd\n",
        "import joblib\n",
        "import matplotlib.pyplot as plt\n",
        "import seaborn as sns\n",
        "from sklearn.linear_model import LinearRegression\n",
        "from sklearn.model_selection import train_test_split\n",
        "from sklearn.metrics import mean_squared_error, r2_score"
      ],
      "metadata": {
        "id": "iyOvtDCjliXA"
      },
      "execution_count": null,
      "outputs": []
    },
    {
      "cell_type": "code",
      "source": [
        "# Gerar dados simulados\n"
      ],
      "metadata": {
        "id": "flTFwcLulifG"
      },
      "execution_count": null,
      "outputs": []
    },
    {
      "cell_type": "markdown",
      "source": [
        "### Análise exploratória dos dados"
      ],
      "metadata": {
        "id": "3BWRzUxd0Y3a"
      }
    },
    {
      "cell_type": "code",
      "source": [
        "# Convertendo para DataFrame para facilitar a análise\n",
        "data = pd.DataFrame(np.c_[X, y], columns=['X', 'y'])\n",
        "data.head(5)"
      ],
      "metadata": {
        "id": "yZDUThdX0Zb7"
      },
      "execution_count": null,
      "outputs": []
    },
    {
      "cell_type": "code",
      "source": [
        "# Estatísticas Descritivas\n",
        "print(\"Estatísticas descritivas de X e y:\")\n"
      ],
      "metadata": {
        "id": "0ZI8P6xV04EX"
      },
      "execution_count": null,
      "outputs": []
    },
    {
      "cell_type": "code",
      "source": [
        "# Visualização de Dispersão (Scatter Plot)\n",
        "plt.figure(figsize=(8, 6))\n",
        "plt.scatter(data['X'], data['y'], color='blue')\n",
        "plt.title('Gráfico de Dispersão entre X e y')\n",
        "plt.xlabel('X')\n",
        "plt.ylabel('y')\n",
        "plt.show()\n"
      ],
      "metadata": {
        "id": "dVLT_FVG04Lg"
      },
      "execution_count": null,
      "outputs": []
    },
    {
      "cell_type": "code",
      "source": [
        "# Correlação entre X e y\n"
      ],
      "metadata": {
        "id": "XoIQA7u904Sr"
      },
      "execution_count": null,
      "outputs": []
    },
    {
      "cell_type": "code",
      "source": [
        "# Histograma de X\n",
        "plt.figure(figsize=(14, 6))\n",
        "plt.hist(data['X'], bins=10, color='green', alpha=0.7)\n",
        "plt.title('Histograma de X')\n",
        "plt.xlabel('X')\n",
        "plt.ylabel('Frequência')\n"
      ],
      "metadata": {
        "id": "oobRgvip04dQ"
      },
      "execution_count": null,
      "outputs": []
    },
    {
      "cell_type": "code",
      "source": [
        "# Histograma de y\n",
        "plt.figure(figsize=(14, 6))\n",
        "plt.hist(data['y'], bins=10, color='purple', alpha=0.7)\n",
        "plt.title('Histograma de y')\n",
        "plt.xlabel('y')\n",
        "plt.ylabel('Frequência')\n",
        "plt.show()"
      ],
      "metadata": {
        "id": "BJKsTTU304hH"
      },
      "execution_count": null,
      "outputs": []
    },
    {
      "cell_type": "markdown",
      "source": [
        "### Dividir os dados em treino e teste"
      ],
      "metadata": {
        "id": "WznIg7MnwGmM"
      }
    },
    {
      "cell_type": "code",
      "source": [],
      "metadata": {
        "id": "8hUrJwzUwFMX"
      },
      "execution_count": null,
      "outputs": []
    },
    {
      "cell_type": "markdown",
      "source": [
        "### Treinar o modelo"
      ],
      "metadata": {
        "id": "W5V5UKqSvtAv"
      }
    },
    {
      "cell_type": "code",
      "execution_count": null,
      "metadata": {
        "id": "v1i2ksahlZ6Y"
      },
      "outputs": [],
      "source": [
        "# Ajustar o modelo de regressão linear\n"
      ]
    },
    {
      "cell_type": "code",
      "source": [
        "# Exibir coeficientes\n",
        "print(f'Intercepto: {model.intercept_[0]:.2f}')\n",
        "print(f'Coeficiente Angular: {model.coef_[0][0]:.2f}')"
      ],
      "metadata": {
        "id": "vlsOLxu-lpAW"
      },
      "execution_count": null,
      "outputs": []
    },
    {
      "cell_type": "markdown",
      "source": [
        "### Avaliar o modelo"
      ],
      "metadata": {
        "id": "o6Rg2onHwZtb"
      }
    },
    {
      "cell_type": "code",
      "source": [],
      "metadata": {
        "id": "5ZTpHSaJxLnp"
      },
      "execution_count": null,
      "outputs": []
    },
    {
      "cell_type": "code",
      "source": [
        "# Avaliando o modelo usando o Mean Squared Error (MSE) e o coeficiente de determinação R²\n",
        "mse = mean_squared_error(y_train, y_pred_train)\n",
        "r2 = r2_score(y_train, y_pred_train)\n",
        "\n",
        "print(f'Mean Squared Error (MSE): {mse:.2f}')\n",
        "print(f'Coeficiente de Determinação (R²): {r2:.2f}')"
      ],
      "metadata": {
        "id": "EjJEotAsyuBY"
      },
      "execution_count": null,
      "outputs": []
    },
    {
      "cell_type": "code",
      "source": [
        "# Visualizar os resultados com dados de TREINO\n",
        "plt.scatter(X_train, y_train, color='blue', label='Dados Reais')\n",
        "plt.plot(X_train, y_pred_train, color='red', label='Regressão Linear')\n",
        "plt.xlabel('X')\n",
        "plt.ylabel('y')\n",
        "plt.title('Regressão Linear Simples Dados de Treino')\n",
        "plt.legend()\n",
        "plt.show()"
      ],
      "metadata": {
        "id": "1aSPfUeUxL5F"
      },
      "execution_count": null,
      "outputs": []
    },
    {
      "cell_type": "code",
      "source": [],
      "metadata": {
        "id": "9u1TkGCswdok"
      },
      "execution_count": null,
      "outputs": []
    },
    {
      "cell_type": "code",
      "source": [
        "# Avaliando o modelo usando o Mean Squared Error (MSE) e o coeficiente de determinação R²\n",
        "mse = mean_squared_error(y_test, y_pred_test)\n",
        "r2 = r2_score(y_test, y_pred_test)\n",
        "\n",
        "print(f'Mean Squared Error (MSE): {mse:.2f}')\n",
        "print(f'Coeficiente de Determinação (R²): {r2:.2f}')"
      ],
      "metadata": {
        "id": "r534ajrby4fM"
      },
      "execution_count": null,
      "outputs": []
    },
    {
      "cell_type": "code",
      "source": [
        "# Visualizar os resultados com dados de TESTE\n",
        "plt.scatter(X_test, y_test, color='blue', label='Dados Reais')\n",
        "plt.plot(X_test, y_pred_test, color='red', label='Regressão Linear')\n",
        "plt.xlabel('X')\n",
        "plt.ylabel('y')\n",
        "plt.title('Regressão Linear Simples Dados de Teste')\n",
        "plt.legend()\n",
        "plt.show()"
      ],
      "metadata": {
        "id": "1C4a8isOlmG4"
      },
      "execution_count": null,
      "outputs": []
    },
    {
      "cell_type": "markdown",
      "source": [
        "#### Salvando o modelo treinado"
      ],
      "metadata": {
        "id": "nq5lgJ2k2w8N"
      }
    },
    {
      "cell_type": "code",
      "source": [
        "joblib.dump(model, 'modelo_regressao_linear.pkl')\n",
        "print(\"Modelo salvo com sucesso.\")"
      ],
      "metadata": {
        "id": "MW35_sqH2xLE"
      },
      "execution_count": null,
      "outputs": []
    },
    {
      "cell_type": "markdown",
      "source": [
        "### Fazer previsões com o modelo"
      ],
      "metadata": {
        "id": "vRZuZ2Nlv7VF"
      }
    },
    {
      "cell_type": "code",
      "source": [
        "# Carregar o modelo salvo\n",
        "model_loaded = joblib.load('modelo_regressao_linear.pkl')\n",
        "\n",
        "# Fazer previsões com o modelo carregado\n",
        "X_new = np.array([[0.34908024]])\n",
        "y_pred = model_loaded.predict(X_new)\n",
        "y_pred"
      ],
      "metadata": {
        "id": "GYFvGvpAlqXm"
      },
      "execution_count": null,
      "outputs": []
    },
    {
      "cell_type": "markdown",
      "source": [
        "# Classificação com Regressão Logística\n",
        "\n",
        "* **Classificação**: prever rótulos de classe categóricos\n"
      ],
      "metadata": {
        "id": "3TmLFlJZlww_"
      }
    },
    {
      "cell_type": "code",
      "source": [
        "import numpy as np\n",
        "import matplotlib.pyplot as plt\n",
        "from sklearn.linear_model import LogisticRegression"
      ],
      "metadata": {
        "id": "mcjEdsnCmM01"
      },
      "execution_count": null,
      "outputs": []
    },
    {
      "cell_type": "code",
      "source": [
        "# Gerar dados simulados\n",
        "np.random.seed(42)\n",
        "num_samples = 100\n",
        "X = np.random.randn(num_samples, 2)\n",
        "y = (X[:, 0] + X[:, 1] > 0).astype(int)"
      ],
      "metadata": {
        "id": "L-E1AXmcmOx0"
      },
      "execution_count": null,
      "outputs": []
    },
    {
      "cell_type": "code",
      "source": [
        "y"
      ],
      "metadata": {
        "id": "43eBgUY-pBdo"
      },
      "execution_count": null,
      "outputs": []
    },
    {
      "cell_type": "code",
      "source": [
        "# Ajustar o modelo de regressão logística\n",
        "model = LogisticRegression()\n",
        "model.fit(X, y)"
      ],
      "metadata": {
        "id": "ChYcJkIwmQt1"
      },
      "execution_count": null,
      "outputs": []
    },
    {
      "cell_type": "code",
      "source": [
        "# Plotar os dados e a fronteira de decisão\n",
        "x_min, x_max = X[:, 0].min() - 1, X[:, 0].max() + 1\n",
        "y_min, y_max = X[:, 1].min() - 1, X[:, 1].max() + 1\n",
        "xx, yy = np.meshgrid(np.linspace(x_min, x_max, 200),np.linspace(y_min, y_max, 200))\n",
        "Z = model.predict(np.c_[xx.ravel(), yy.ravel()])\n",
        "Z = Z.reshape(xx.shape)\n",
        "\n",
        "plt.contourf(xx, yy, Z, alpha=0.2)\n",
        "plt.scatter(X[:, 0], X[:, 1], c=y, edgecolors='k', cmap=plt.cm.Paired)\n",
        "plt.xlabel('Característica 1')\n",
        "plt.ylabel('Característica 2')\n",
        "plt.title('Classificação com Regressão Logística')\n",
        "plt.show()\n"
      ],
      "metadata": {
        "id": "o4il0OIxlw_d"
      },
      "execution_count": null,
      "outputs": []
    },
    {
      "cell_type": "markdown",
      "source": [
        "# Clusterização com K-Means\n",
        "\n",
        "  * **Agrupamento**: permite descobrir estruturas escondidas nos dados, encontrando grupos naturais nos dados"
      ],
      "metadata": {
        "id": "HT21GJXcmoJj"
      }
    },
    {
      "cell_type": "code",
      "source": [
        "import numpy as np\n",
        "import matplotlib.pyplot as plt\n",
        "from sklearn.cluster import KMeans"
      ],
      "metadata": {
        "id": "Xp8uXlFclxDW"
      },
      "execution_count": null,
      "outputs": []
    },
    {
      "cell_type": "markdown",
      "source": [
        "* Cluster 1: Centrados em (0, -3), na parte inferior do gráfico.\n",
        "* Cluster 2: Centrados em (3, 3), no canto superior direito.\n",
        "* Cluster 3: Centrados em (-3, 3), no canto superior esquerdo."
      ],
      "metadata": {
        "id": "VxEW25WRoeTA"
      }
    },
    {
      "cell_type": "code",
      "source": [
        "# Gerar dados simulados\n",
        "np.random.seed(42)\n",
        "\n",
        "# Gera uma matriz de dimensões (100, 2) com números aleatórios seguindo uma distribuição normal padrão (média 0, desvio padrão 1).\n",
        "# + np.array([0, -3]): desloca todos os pontos em 0 unidades no eixo X e -3 unidades no eixo Y.\n",
        "X1 = np.random.randn(100, 2) + np.array([0, -3])\n",
        "X2 = np.random.randn(100, 2) + np.array([3, 3])\n",
        "X3 = np.random.randn(100, 2) + np.array([-3, 3])\n",
        "\n",
        "#Vertical Stack:Empilha verticalmente as matrizes X1, X2 e X3.\n",
        "X = np.vstack([X1, X2, X3])"
      ],
      "metadata": {
        "id": "3eo9CcnulxGK"
      },
      "execution_count": null,
      "outputs": []
    },
    {
      "cell_type": "code",
      "source": [
        "# Aplicar K-Means\n",
        "kmeans = KMeans(n_clusters=3, random_state=42)\n",
        "y_pred = kmeans.fit_predict(X)"
      ],
      "metadata": {
        "id": "-bsfACTdlxIy"
      },
      "execution_count": null,
      "outputs": []
    },
    {
      "cell_type": "code",
      "source": [
        "# Visualização\n",
        "plt.scatter(X[:, 0], X[:, 1], c=y_pred, cmap='viridis', edgecolors='k')\n",
        "plt.scatter(kmeans.cluster_centers_[:, 0], kmeans.cluster_centers_[:, 1],s=200, c='red', label='Centroides')\n",
        "plt.xlabel('Característica 1')\n",
        "plt.ylabel('Característica 2')\n",
        "plt.title('Clusterização com K-Means')\n",
        "plt.legend()\n",
        "plt.show()"
      ],
      "metadata": {
        "id": "-H7xgq9KmvKq"
      },
      "execution_count": null,
      "outputs": []
    }
  ]
}